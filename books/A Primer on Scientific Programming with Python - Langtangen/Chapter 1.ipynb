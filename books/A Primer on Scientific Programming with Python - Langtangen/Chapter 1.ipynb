{
 "cells": [
  {
   "cell_type": "code",
   "execution_count": null,
   "metadata": {},
   "outputs": [],
   "source": [
    "#ball1.py\n",
    "print(5*0.6-0.5*9.81*0.6**2)"
   ]
  },
  {
   "cell_type": "code",
   "execution_count": null,
   "metadata": {},
   "outputs": [],
   "source": [
    "#ball2.py\n",
    "# Program for computing the height of a ball in vertical motion\n",
    "v0 = 5     # initial velocity\n",
    "g = 9.81   # acceleration\n",
    "t = 0.6    # time\n",
    "y = v0*t - 0.5*g*t**2  # vertical position\n",
    "print(y)"
   ]
  },
  {
   "cell_type": "code",
   "execution_count": null,
   "metadata": {},
   "outputs": [],
   "source": [
    "#ball_print1.py\n",
    "v0 = 5\n",
    "g = 9.81\n",
    "t = 0.6\n",
    "y = v0*t - 0.5*g*t**2\n",
    "print(\"At {0:g} s, the height of the ball is {1:.2f} m.\".format(t,y))"
   ]
  },
  {
   "cell_type": "code",
   "execution_count": null,
   "metadata": {},
   "outputs": [],
   "source": [
    "#ball_print2.py\n",
    "v0 = 5\n",
    "g = 9.81\n",
    "t = 0.6\n",
    "y = v0*t - 0.5*g*t**2\n",
    "print(\"\"\"\n",
    "At t={0:f} s, a ball with\n",
    "initial velocity v0={1:.3E} m/s\n",
    "is located at the height {2:.2f} m.\n",
    "\"\"\".format(t,v0,y))"
   ]
  },
  {
   "cell_type": "code",
   "execution_count": null,
   "metadata": {},
   "outputs": [],
   "source": [
    "#c2f.py\n",
    "C = 21\n",
    "F = (9.0/5)*C + 32\n",
    "print(F)"
   ]
  },
  {
   "cell_type": "code",
   "execution_count": null,
   "metadata": {},
   "outputs": [],
   "source": [
    "#ball_yc.py\n",
    "v0 = 5\n",
    "g = 9.81\n",
    "yc = 0.2\n",
    "import math\n",
    "t1 = (v0 - math.sqrt(v0**2 - 2*g*yc))/g\n",
    "t2 = (v0 + math.sqrt(v0**2 - 2*g*yc))/g\n",
    "print(\"At t={0:g} s and {1:g} s, the height is {2:g} m.\".format(t1,t2,yc))"
   ]
  },
  {
   "cell_type": "code",
   "execution_count": null,
   "metadata": {},
   "outputs": [],
   "source": [
    "#3sinh.py\n",
    "from math import sinh, exp, e, pi\n",
    "x = 2*pi\n",
    "r1 = sinh(x)\n",
    "r2 = 0.5*(exp(x) - exp(-x))\n",
    "r3 = 0.5*(e**x - e**(-x))\n",
    "print(\"{:.16f} {:.16f} {:.16f}\".format(r1,r2,r3))"
   ]
  },
  {
   "cell_type": "code",
   "execution_count": null,
   "metadata": {},
   "outputs": [],
   "source": [
    "#Exercise1.1\n",
    "result = 1 + 1\n",
    "print(\"Result = {}\".format(result))"
   ]
  },
  {
   "cell_type": "code",
   "execution_count": null,
   "metadata": {},
   "outputs": [],
   "source": [
    "#Exercise1.2\n",
    "print(\"Hello, World!\")"
   ]
  },
  {
   "cell_type": "code",
   "execution_count": null,
   "metadata": {},
   "outputs": [],
   "source": [
    "#Exercise1.3\n",
    "s = 1e9\n",
    "y = s/60.0/60.0/24.0/365.0\n",
    "print(\"{} seconds are {:.2f} years.\".format(s,y))"
   ]
  },
  {
   "cell_type": "code",
   "execution_count": null,
   "metadata": {},
   "outputs": [],
   "source": [
    "#Exercise1.4\n",
    "meter = 640\n",
    "inch = meter*100.0/2.54\n",
    "foot = inch/12.0\n",
    "yard = foot/3.0\n",
    "mile = yard/1760.0\n",
    "print(\"\"\"Meters = {:.2f}\n",
    "Inches = {:.2f}\n",
    "Feet = {:.2f}\n",
    "Yards = {:.2f}\n",
    "Miles = {:.2f}\"\"\".format(meter,inch,foot,yard,mile))"
   ]
  },
  {
   "cell_type": "code",
   "execution_count": null,
   "metadata": {},
   "outputs": [],
   "source": [
    "#Exercise1.6\n",
    "A = 1000\n",
    "p = 5\n",
    "n = 3\n",
    "result = A*(1+p/100.0)**n\n",
    "print(\"{:.2f} euros have become {:.2f} euros after {} years.\".format(A,result,n))"
   ]
  },
  {
   "cell_type": "code",
   "execution_count": 26,
   "metadata": {},
   "outputs": [
    {
     "name": "stdout",
     "output_type": "stream",
     "text": [
      "sin(1)=0.841471\n"
     ]
    }
   ],
   "source": [
    "#Exercise1.7\n",
    "from math import sin\n",
    "x=1; print('sin(%g)=%g'%(x,sin(x)))"
   ]
  },
  {
   "cell_type": "code",
   "execution_count": 27,
   "metadata": {},
   "outputs": [
    {
     "name": "stdout",
     "output_type": "stream",
     "text": [
      "The area of the parallelogram is 10.000\n",
      "The area of the square is 4\n",
      "The area of the circle is 7.069\n",
      "The volume of the cone is 11.781\n"
     ]
    }
   ],
   "source": [
    "#Exercise1.8\n",
    "from math import pi\n",
    "\n",
    "h = 5.0  # height\n",
    "b = 2.0  # base\n",
    "r = 1.5  # radius\n",
    "\n",
    "area_parallelogram = h*b\n",
    "print(\"The area of the parallelogram is {:.3f}\".format(area_parallelogram))\n",
    "\n",
    "area_square = b**2\n",
    "print(\"The area of the square is {:g}\".format(area_square))\n",
    "\n",
    "area_circle = pi*r**2\n",
    "print(\"The area of the circle is {:.3f}\".format(area_circle))\n",
    "\n",
    "volume_cone = 1.0/3*pi*r**2*h\n",
    "print(\"The volume of the cone is {:.3f}\".format(volume_cone))"
   ]
  },
  {
   "cell_type": "raw",
   "metadata": {},
   "source": [
    "#Exercise1.9.a\n",
    "from math import sin, cos\n",
    "x = pi/4\n",
    "val_1 = sin(x)**2+cos(x)**2\n",
    "print(\"sin({:.3f})^2 + cos({:.3f})^2 = {:.3f}\".format(x,x,val_1))"
   ]
  },
  {
   "cell_type": "code",
   "execution_count": 29,
   "metadata": {},
   "outputs": [
    {
     "name": "stdout",
     "output_type": "stream",
     "text": [
      "s = 4.000\n"
     ]
    }
   ],
   "source": [
    "#Exercise1.9.b\n",
    "v0 = 3\n",
    "t = 1\n",
    "a = 2\n",
    "s = v0*t + 0.5*a*t**2\n",
    "print(\"s = {:.3f}\".format(s))"
   ]
  },
  {
   "cell_type": "code",
   "execution_count": 32,
   "metadata": {},
   "outputs": [
    {
     "name": "stdout",
     "output_type": "stream",
     "text": [
      "First equation: 73.960 = 73.960\n",
      "Second equation: 4.000 = 4.000\n"
     ]
    }
   ],
   "source": [
    "#Exercise1.9.c\n",
    "a = 3.3\n",
    "b = 5.3\n",
    "a2 = a**2\n",
    "b2 = b**2\n",
    "eq1_sum = a2 + 2*a*b + b2\n",
    "eq2_sum = a2 - 2*a*b + b2\n",
    "\n",
    "eq1_pow = (a + b)**2\n",
    "eq2_pow = (a - b)**2\n",
    "\n",
    "print(\"First equation: {:.3f} = {:.3f}\".format(eq1_sum,eq1_pow))\n",
    "print(\"Second equation: {:.3f} = {:.3f}\".format(eq2_sum,eq2_pow))"
   ]
  },
  {
   "cell_type": "code",
   "execution_count": 33,
   "metadata": {},
   "outputs": [
    {
     "name": "stdout",
     "output_type": "stream",
     "text": [
      "f = 0.176\n"
     ]
    }
   ],
   "source": [
    "#Exercise1.10\n",
    "from math import pi, sqrt, exp\n",
    "\n",
    "m = 0\n",
    "s = 2\n",
    "x = 1\n",
    "f = (1/(sqrt(2*pi)*s))*exp(-0.5*((x-m)/2)**2)\n",
    "print(\"f = {:.3f}\".format(f))"
   ]
  },
  {
   "cell_type": "code",
   "execution_count": 37,
   "metadata": {},
   "outputs": [
    {
     "name": "stdout",
     "output_type": "stream",
     "text": [
      "Soft kick: Fd = 0.6; Fg = 4.2; Fd/Fg = 0.2\n",
      "Hard kick: Fd = 10.1; Fg = 4.2; Fd/Fg = 2.4\n"
     ]
    }
   ],
   "source": [
    "#Exercise1.11\n",
    "from math import pi\n",
    "\n",
    "d = 1.2  # Air density (kg/m^3)\n",
    "a = 11.0 # Radius (cm)\n",
    "A = pi*(a/100.0)**2 # Area m^2\n",
    "c = 0.4  # Coefficient\n",
    "m = 0.43 # Mass (kg)\n",
    "g = 9.81 # Gravity (m/s^2)\n",
    "\n",
    "def fd(c,d,A,V):\n",
    "    return 0.5*c*d*A*V**2\n",
    "\n",
    "def fg(m,g):\n",
    "    return m*g\n",
    "\n",
    "V = 30 * 5 / 18\n",
    "print(\"Soft kick: Fd = {:.1f}; Fg = {:.1f}; Fd/Fg = {:.1f}\".format(fd(c,d,A,V),fg(m,g),fd(c,d,A,V)/fg(m,g)))\n",
    "\n",
    "V = 120 * 5 / 18\n",
    "print(\"Hard kick: Fd = {:.1f}; Fg = {:.1f}; Fd/Fg = {:.1f}\".format(fd(c,d,A,V),fg(m,g),fd(c,d,A,V)/fg(m,g)))"
   ]
  },
  {
   "cell_type": "code",
   "execution_count": null,
   "metadata": {},
   "outputs": [],
   "source": [
    "#Exercise1.12\n"
   ]
  }
 ],
 "metadata": {
  "kernelspec": {
   "display_name": "Python 3.6",
   "language": "python",
   "name": "python36"
  },
  "language_info": {
   "codemirror_mode": {
    "name": "ipython",
    "version": 3
   },
   "file_extension": ".py",
   "mimetype": "text/x-python",
   "name": "python",
   "nbconvert_exporter": "python",
   "pygments_lexer": "ipython3",
   "version": "3.6.3"
  }
 },
 "nbformat": 4,
 "nbformat_minor": 2
}
