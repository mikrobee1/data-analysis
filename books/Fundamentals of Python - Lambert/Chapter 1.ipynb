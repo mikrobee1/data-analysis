{
 "cells": [
  {
   "cell_type": "code",
   "execution_count": null,
   "metadata": {
    "scrolled": true
   },
   "outputs": [],
   "source": [
    "print('Project 1')\n",
    "print('---------')\n",
    "print('a) 8 =',8)\n",
    "print('b) 8*2 =',8*2)\n",
    "print('c) 8**2 =',8**2)\n",
    "print('d) 8/12 =',8/12)\n",
    "print('e) 8//12 =',8//12)\n",
    "print('f) 8/0 =',8/0)"
   ]
  },
  {
   "cell_type": "code",
   "execution_count": null,
   "metadata": {},
   "outputs": [],
   "source": [
    "print('Project 2')\n",
    "print('---------')\n",
    "print('Name: Diego')\n",
    "print('Address: 京都市')\n",
    "print('Telephone number: 090090090')"
   ]
  },
  {
   "cell_type": "code",
   "execution_count": null,
   "metadata": {},
   "outputs": [],
   "source": [
    "print('Project 3')\n",
    "print('---------')\n",
    "name = 'Diego'\n",
    "print('Your name is',name)"
   ]
  },
  {
   "cell_type": "code",
   "execution_count": null,
   "metadata": {},
   "outputs": [],
   "source": [
    "print('Project 4')\n",
    "print('---------')\n",
    "width = int(input('Enter the width: '))\n",
    "height = int(input('Enter height: '))\n",
    "area = width * height\n",
    "print('The area is',area,'square units')"
   ]
  },
  {
   "cell_type": "code",
   "execution_count": null,
   "metadata": {},
   "outputs": [],
   "source": [
    "print('Project 5')\n",
    "print('---------')\n",
    "base = int(input('Enter the base: '))\n",
    "height = int(input('Enter the height: '))\n",
    "area = 0.5 * base * height\n",
    "print('The area is',area,'square units')"
   ]
  },
  {
   "cell_type": "code",
   "execution_count": null,
   "metadata": {},
   "outputs": [],
   "source": [
    "print('Project 6')\n",
    "print('---------')\n",
    "radius = int(input('Enter the radius: '))\n",
    "area = 3.14 * radius ** 2\n",
    "print('The area is',area,'square units')"
   ]
  },
  {
   "cell_type": "code",
   "execution_count": null,
   "metadata": {},
   "outputs": [],
   "source": [
    "print('Project 7')\n",
    "print('---------')\n",
    "name = input('Enter your name: ')\n",
    "age = int(input('Enter your age: '))\n",
    "print('Your name is',name,'and you are',age,'years old')"
   ]
  },
  {
   "cell_type": "code",
   "execution_count": null,
   "metadata": {},
   "outputs": [],
   "source": [
    "print('Project 8')\n",
    "print('---------')\n",
    "number = input('Enter a number: ')\n",
    "print(number + 1)"
   ]
  },
  {
   "cell_type": "code",
   "execution_count": null,
   "metadata": {},
   "outputs": [],
   "source": [
    "print('Project 9')\n",
    "print('---------')\n",
    "input('Enter a string: ')"
   ]
  },
  {
   "cell_type": "code",
   "execution_count": null,
   "metadata": {},
   "outputs": [],
   "source": [
    "print('Project 10')\n",
    "print('----------')\n",
    "help()"
   ]
  }
 ],
 "metadata": {
  "kernelspec": {
   "display_name": "Python 3",
   "language": "python",
   "name": "python3"
  },
  "language_info": {
   "codemirror_mode": {
    "name": "ipython",
    "version": 3
   },
   "file_extension": ".py",
   "mimetype": "text/x-python",
   "name": "python",
   "nbconvert_exporter": "python",
   "pygments_lexer": "ipython3",
   "version": "3.6.4"
  }
 },
 "nbformat": 4,
 "nbformat_minor": 2
}
