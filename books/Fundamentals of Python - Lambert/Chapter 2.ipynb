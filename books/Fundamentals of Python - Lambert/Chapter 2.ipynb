{
 "cells": [
  {
   "cell_type": "code",
   "execution_count": null,
   "metadata": {},
   "outputs": [],
   "source": [
    "print('Ex 2.3.1')\n",
    "print('--------')\n",
    "x = 'dog'\n",
    "y = 'cat'\n",
    "print('x + y =',x+y)\n",
    "print('the ' + x + ' chases the ' + y)"
   ]
  },
  {
   "cell_type": "code",
   "execution_count": null,
   "metadata": {},
   "outputs": [],
   "source": [
    "print('Ex 2.3.2')\n",
    "print('--------')\n",
    "print('Name: Diego\\nAddress: Kyoto, Japan')\n",
    "print(\"\"\"Name: Diego\n",
    "Address: Kyoto, Japan\"\"\")"
   ]
  },
  {
   "cell_type": "code",
   "execution_count": null,
   "metadata": {},
   "outputs": [],
   "source": [
    "print('Ex 2.3.3')\n",
    "print('--------')\n",
    "print(\"'\")"
   ]
  },
  {
   "cell_type": "code",
   "execution_count": null,
   "metadata": {},
   "outputs": [],
   "source": [
    "print('Ex 2.3.4')\n",
    "print('--------')\n",
    "print('a\\nb\\nc')"
   ]
  },
  {
   "cell_type": "code",
   "execution_count": null,
   "metadata": {},
   "outputs": [],
   "source": [
    "print('Ex 2.5.1')\n",
    "print('--------')\n",
    "x = 8\n",
    "y = 2\n",
    "print('x =',x,'\\b, y =',y)\n",
    "print('x + y * 3 =',x+y*3)\n",
    "print('(x + y) * 3 =',(x+y)*3)\n",
    "print('x ** y =',x**y)\n",
    "print('x % y =',x%y)\n",
    "print('x / 12.0 =',x/12.0)\n",
    "print('x // 6 =',x//6)"
   ]
  },
  {
   "cell_type": "code",
   "execution_count": null,
   "metadata": {},
   "outputs": [],
   "source": [
    "print('Ex 2.5.2')\n",
    "print('--------')\n",
    "x = 4.66\n",
    "print('x =',x)\n",
    "print('round(x) =',round(x))\n",
    "print('int(x) =',int(x))"
   ]
  },
  {
   "cell_type": "code",
   "execution_count": null,
   "metadata": {},
   "outputs": [],
   "source": [
    "print('Ex 2.5.3')\n",
    "print('--------')\n",
    "x = 0.3\n",
    "y = 0.7\n",
    "print('x =',x,'\\b, y =',y)\n",
    "print('int(x) =',int(x))\n",
    "print('int(y) =',int(y))"
   ]
  },
  {
   "cell_type": "code",
   "execution_count": null,
   "metadata": {},
   "outputs": [],
   "source": [
    "print('Ex 2.5.4')\n",
    "print('--------')\n",
    "x = 1\n",
    "y = 'a'\n",
    "print('str(x) + y =',str(x)+y)"
   ]
  },
  {
   "cell_type": "code",
   "execution_count": null,
   "metadata": {},
   "outputs": [],
   "source": [
    "print('Ex 2.5.5')\n",
    "print('--------')\n",
    "x = 55\n",
    "print('x =',x)\n",
    "x = x + 1\n",
    "print('x = x + 1')\n",
    "print('x =',x)"
   ]
  },
  {
   "cell_type": "code",
   "execution_count": null,
   "metadata": {},
   "outputs": [],
   "source": [
    "from math import pow\n",
    "\n",
    "print('Ex 2.6.2')\n",
    "print('--------')\n",
    "print('8^2 =',pow(8,2))\n",
    "print('5^4 =',pow(5,4))"
   ]
  },
  {
   "cell_type": "code",
   "execution_count": null,
   "metadata": {},
   "outputs": [],
   "source": [
    "# Project 1\n",
    "\"\"\"\n",
    "Program: taxform.py\n",
    "Author: Ken Lambert\n",
    "\n",
    "Compute a person's income tax.\n",
    "\n",
    "1. Significant constants\n",
    "       tax rate\n",
    "       standard deduction\n",
    "       deduction per dependent\n",
    "2. The inputs are\n",
    "       gross income\n",
    "       number of dependents\n",
    "3. Computations:\n",
    "       taxable income = gross income - the standard deduction -\n",
    "                    a deduction for each dependent\n",
    "       income tax = is a fixed percentage of the taxable income\n",
    "4. The outputs are\n",
    "       the income tax\n",
    "\"\"\"\n",
    "\n",
    "# Initialize the constants\n",
    "TAX_RATE = 0.20\n",
    "STANDARD_DEDUCTION = 10000.0\n",
    "DEPENDENT_DEDUCTION = 3000.0\n",
    "\n",
    "# Request the inputs\n",
    "grossIncome = float(input('Enter the gross income: '))\n",
    "numDependents = int(input('Enter the number of dependents: '))\n",
    "\n",
    "# Compute the income tax\n",
    "taxableIncome = grossIncome - STANDARD_DEDUCTION - \\\n",
    "                DEPENDENT_DEDUCTION * numDependents\n",
    "incomeTax = round(taxableIncome * TAX_RATE,2)\n",
    "\n",
    "# Display the income tax\n",
    "print('The income tax is $' + str(incomeTax))"
   ]
  },
  {
   "cell_type": "code",
   "execution_count": null,
   "metadata": {},
   "outputs": [],
   "source": [
    "# Project 2\n",
    "\n",
    "length = float(input('Enter the length: '))\n",
    "surfaceArea = 6.0 * length ** 2\n",
    "print('Surface area is',surfaceArea)"
   ]
  },
  {
   "cell_type": "code",
   "execution_count": null,
   "metadata": {},
   "outputs": [],
   "source": [
    "# Project 3\n",
    "\n",
    "newVideos = int(input('Enter the number of new videos: '))\n",
    "oldVideos = int(input('Enter the number of old videos: '))\n",
    "totalCost = 3.0 * newVideos + 2.0 * oldVideos\n",
    "print('The total cost is ',totalCost)"
   ]
  },
  {
   "cell_type": "code",
   "execution_count": null,
   "metadata": {},
   "outputs": [],
   "source": [
    "# Project 4\n",
    "from math import pi\n",
    "\n",
    "radius = float(input('Enter the radius: '))\n",
    "diameter = 2.0 * radius\n",
    "print('Diameter =',round(diameter,2))\n",
    "circunference = 2.0 * pi * radius\n",
    "print('Circunference =',round(circunference,2))\n",
    "surfaceArea = 4 * pi * radius ** 2\n",
    "print('Surface Area =',round(surfaceArea,2))\n",
    "volume = 4.0/3.0 * radius ** 3\n",
    "print('Volume =',round(volume,2))"
   ]
  },
  {
   "cell_type": "code",
   "execution_count": null,
   "metadata": {},
   "outputs": [],
   "source": [
    "# Project 5\n",
    "\n",
    "mass = float(input('Input the mass in kg: '))\n",
    "velocity = float(input('Input the velocity in m/s: '))\n",
    "momentum = mass * velocity\n",
    "print('Momentum =',round(momentum,2))"
   ]
  },
  {
   "cell_type": "code",
   "execution_count": null,
   "metadata": {},
   "outputs": [],
   "source": [
    "# Project 6\n",
    "\n",
    "mass = float(input('Input the mass in kg: '))\n",
    "velocity = float(input('Input the velocity in m/s: '))\n",
    "momentum = mass * velocity\n",
    "kineticEnergy = 0.5 * mass * velocity ** 2\n",
    "print('Momentum =',round(momentum,2))\n",
    "print('Kinetic Energy =',round(kineticEnergy,2))"
   ]
  },
  {
   "cell_type": "code",
   "execution_count": null,
   "metadata": {},
   "outputs": [],
   "source": [
    "# Project 7\n",
    "\n",
    "days = 365\n",
    "hours = days * 24\n",
    "minutes = hours * 60\n",
    "print('In a year there are',minutes,'minutes.')"
   ]
  },
  {
   "cell_type": "code",
   "execution_count": null,
   "metadata": {},
   "outputs": [],
   "source": [
    "# Project 8\n",
    "\n",
    "days = 365\n",
    "hours = days * 24\n",
    "minutes = hours * 60\n",
    "seconds = minutes * 60\n",
    "velocityOfLight = 3.0e8\n",
    "lightYear = velocityOfLight * seconds\n",
    "print('A light year is',lightYear,'m.')"
   ]
  },
  {
   "cell_type": "code",
   "execution_count": null,
   "metadata": {},
   "outputs": [],
   "source": [
    "# Project 9\n",
    "\n",
    "kilometer = float(input('Enter the number of kilometers: '))\n",
    "km2mile = 1.0e4 / (90.0 * 60.0)\n",
    "mile = kilometer * km2mile\n",
    "print('The distance in nautical miles is',round(mile,2),'mi.')"
   ]
  },
  {
   "cell_type": "code",
   "execution_count": null,
   "metadata": {},
   "outputs": [],
   "source": [
    "# Project 10\n",
    "\n",
    "hourlyWage = float(input('Input the hourly wage: '))\n",
    "regularHours = int(input('Input the number of regular hours: '))\n",
    "overtimeHours = int(input('Input the number of overtime hours: '))\n",
    "weeklyPay = hourlyWage * regularHours + 1.5 * hourlyWage * overtimeHours\n",
    "print('The weekly pay is',round(weeklyPay,2))"
   ]
  }
 ],
 "metadata": {
  "kernelspec": {
   "display_name": "Python 3",
   "language": "python",
   "name": "python3"
  },
  "language_info": {
   "codemirror_mode": {
    "name": "ipython",
    "version": 3
   },
   "file_extension": ".py",
   "mimetype": "text/x-python",
   "name": "python",
   "nbconvert_exporter": "python",
   "pygments_lexer": "ipython3",
   "version": "3.6.4"
  }
 },
 "nbformat": 4,
 "nbformat_minor": 2
}
